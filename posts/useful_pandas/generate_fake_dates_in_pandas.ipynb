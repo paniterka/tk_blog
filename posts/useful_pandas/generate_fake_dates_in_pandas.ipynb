{
 "cells": [
  {
   "cell_type": "raw",
   "id": "10e8b926",
   "metadata": {},
   "source": [
    "---\n",
    "title: \"Generating random days between two dates\"\n",
    "date: \"2022-07-30\"\n",
    "categories: [cheatsheet, pandas]\n",
    "draft: false\n",
    "freeze: true\n",
    "---"
   ]
  },
  {
   "cell_type": "code",
   "execution_count": 1,
   "id": "8d46abc9",
   "metadata": {},
   "outputs": [],
   "source": [
    "import pandas as pd \n",
    "import numpy as np"
   ]
  },
  {
   "cell_type": "code",
   "execution_count": 2,
   "id": "76269b7a",
   "metadata": {},
   "outputs": [],
   "source": [
    "start_date = '2010-03-23'\n",
    "end_date = '2013-07-19'"
   ]
  },
  {
   "cell_type": "markdown",
   "id": "1b77af42",
   "metadata": {},
   "source": [
    "## Generate all days between two dates: "
   ]
  },
  {
   "cell_type": "code",
   "execution_count": 3,
   "id": "0ee7664a",
   "metadata": {},
   "outputs": [
    {
     "data": {
      "text/plain": [
       "DatetimeIndex(['2010-03-23', '2010-03-24', '2010-03-25', '2010-03-26',\n",
       "               '2010-03-27', '2010-03-28', '2010-03-29', '2010-03-30',\n",
       "               '2010-03-31', '2010-04-01',\n",
       "               ...\n",
       "               '2013-07-10', '2013-07-11', '2013-07-12', '2013-07-13',\n",
       "               '2013-07-14', '2013-07-15', '2013-07-16', '2013-07-17',\n",
       "               '2013-07-18', '2013-07-19'],\n",
       "              dtype='datetime64[ns]', length=1215, freq='D')"
      ]
     },
     "execution_count": 3,
     "metadata": {},
     "output_type": "execute_result"
    }
   ],
   "source": [
    "pd.date_range(start_date, end_date, freq='D')"
   ]
  },
  {
   "cell_type": "markdown",
   "id": "40cb488d",
   "metadata": {},
   "source": [
    "## Generate N dates equally spaced: "
   ]
  },
  {
   "cell_type": "code",
   "execution_count": 4,
   "id": "82843452",
   "metadata": {},
   "outputs": [
    {
     "data": {
      "text/plain": [
       "DatetimeIndex(['2010-03-23', '2011-05-01', '2012-06-09', '2013-07-19'], dtype='datetime64[ns]', freq=None)"
      ]
     },
     "execution_count": 4,
     "metadata": {},
     "output_type": "execute_result"
    }
   ],
   "source": [
    "N = 4\n",
    "\n",
    "pd.date_range(start_date, end_date, periods=N).normalize()"
   ]
  },
  {
   "cell_type": "markdown",
   "id": "55e6715b",
   "metadata": {},
   "source": [
    "## Generate a random subsample of N dates between the dates"
   ]
  },
  {
   "cell_type": "markdown",
   "id": "58cc294f",
   "metadata": {},
   "source": [
    "Method 1 & 2 require to generate the whole date range first, then sample from it. Method 3 & 4 leverage numpy generators and construct dates out of generated numbers. Method 2 doesn't require explicitly importing numpy. Method 4 gives you the times for free as well and seems the fastest according to the benchmark in the original SO thread"
   ]
  },
  {
   "cell_type": "markdown",
   "id": "40ad53bc",
   "metadata": {},
   "source": [
    "#### Method 1:\n",
    "`np.random.choice` [src](https://stackoverflow.com/questions/49522397/add-random-dates-in-400k-pandas-dataframe)"
   ]
  },
  {
   "cell_type": "code",
   "execution_count": 5,
   "id": "9c579766",
   "metadata": {},
   "outputs": [
    {
     "data": {
      "text/plain": [
       "0   2010-12-07\n",
       "1   2010-05-20\n",
       "2   2011-12-17\n",
       "3   2013-02-24\n",
       "dtype: datetime64[ns]"
      ]
     },
     "execution_count": 5,
     "metadata": {},
     "output_type": "execute_result"
    }
   ],
   "source": [
    "# old syntax\n",
    "\n",
    "N = 4\n",
    "\n",
    "pd.Series(\n",
    "    np.random.choice(\n",
    "        pd.date_range(start_date, end_date), \n",
    "        N, \n",
    "        replace=True # replace=True -> 1 value can appear multiple times\n",
    "    )\n",
    ") "
   ]
  },
  {
   "cell_type": "code",
   "execution_count": 6,
   "id": "00cc9b00",
   "metadata": {},
   "outputs": [
    {
     "data": {
      "text/plain": [
       "0   2013-03-16\n",
       "1   2010-11-18\n",
       "2   2012-05-27\n",
       "3   2011-03-24\n",
       "dtype: datetime64[ns]"
      ]
     },
     "execution_count": 6,
     "metadata": {},
     "output_type": "execute_result"
    }
   ],
   "source": [
    "# new syntax\n",
    "\n",
    "rng = np.random.default_rng()\n",
    "\n",
    "N = 4\n",
    "\n",
    "pd.Series(\n",
    "    rng.choice(\n",
    "        pd.date_range(start_date, end_date), \n",
    "        N, \n",
    "        replace=True # replace=True -> 1 value can appear multiple times\n",
    "    )\n",
    ") "
   ]
  },
  {
   "cell_type": "markdown",
   "id": "c06c1b79",
   "metadata": {},
   "source": [
    "#### Method 2: \n",
    "`pd.Series.sample()`"
   ]
  },
  {
   "cell_type": "code",
   "execution_count": 12,
   "id": "adec7fcf",
   "metadata": {},
   "outputs": [
    {
     "data": {
      "text/plain": [
       "0   2012-05-05\n",
       "1   2012-10-20\n",
       "2   2013-02-04\n",
       "3   2011-01-03\n",
       "dtype: datetime64[ns]"
      ]
     },
     "execution_count": 12,
     "metadata": {},
     "output_type": "execute_result"
    }
   ],
   "source": [
    "N = 4\n",
    "\n",
    "pd.Series(\n",
    "    pd.date_range(start_date, end_date, freq='D')\n",
    ")\\\n",
    ".sample(N, replace=True)\\\n",
    ".reset_index(drop=True)"
   ]
  },
  {
   "cell_type": "markdown",
   "id": "21a9de9d",
   "metadata": {},
   "source": [
    "#### Method 3: \n",
    "`pd.to_timedelta`"
   ]
  },
  {
   "cell_type": "code",
   "execution_count": 8,
   "id": "97f2e315",
   "metadata": {},
   "outputs": [
    {
     "data": {
      "text/plain": [
       "DatetimeIndex(['2013-05-10', '2011-07-19', '2011-05-14', '2013-01-30'], dtype='datetime64[ns]', freq=None)"
      ]
     },
     "execution_count": 8,
     "metadata": {},
     "output_type": "execute_result"
    }
   ],
   "source": [
    "# old syntax\n",
    "\n",
    "N = 4\n",
    "\n",
    "max_days = (pd.to_datetime(end_date) - pd.to_datetime(start_date)).days\n",
    "delta_days = pd.to_timedelta(\n",
    "    np.random.randint(0, max_days+1, N), \n",
    "    unit='D')\n",
    "\n",
    "pd.to_datetime(start_date) + delta_days"
   ]
  },
  {
   "cell_type": "code",
   "execution_count": 9,
   "id": "28bbbe60",
   "metadata": {},
   "outputs": [
    {
     "data": {
      "text/plain": [
       "DatetimeIndex(['2013-02-17', '2012-02-21', '2011-04-13', '2013-02-20'], dtype='datetime64[ns]', freq=None)"
      ]
     },
     "execution_count": 9,
     "metadata": {},
     "output_type": "execute_result"
    }
   ],
   "source": [
    "# new syntax\n",
    "\n",
    "rng = np.random.default_rng()\n",
    "\n",
    "N = 4\n",
    "\n",
    "max_days = (pd.to_datetime(end_date) - pd.to_datetime(start_date)).days\n",
    "delta_days = pd.to_timedelta(\n",
    "    rng.integers(0, max_days, size=N, endpoint=True), \n",
    "    unit='D')\n",
    "\n",
    "pd.to_datetime(start_date) + delta_days"
   ]
  },
  {
   "cell_type": "markdown",
   "id": "ebc56c43",
   "metadata": {},
   "source": [
    "#### Method 4: \n",
    "unix timestamps [src](https://stackoverflow.com/questions/50559078/generating-random-dates-within-a-given-range-in-pandas)"
   ]
  },
  {
   "cell_type": "code",
   "execution_count": 10,
   "id": "a8e83796",
   "metadata": {},
   "outputs": [
    {
     "data": {
      "text/plain": [
       "DatetimeIndex(['2010-07-15', '2011-05-11', '2010-10-30', '2010-05-19'], dtype='datetime64[ns]', freq=None)"
      ]
     },
     "execution_count": 10,
     "metadata": {},
     "output_type": "execute_result"
    }
   ],
   "source": [
    "# old syntax\n",
    "\n",
    "N = 4\n",
    "\n",
    "start_u = pd.to_datetime(start_date).value//int(1e9)\n",
    "end_u = pd.to_datetime(end_date).value//int(1e9)\n",
    "pd.to_datetime(np.random.randint(start_u, end_u, N), unit='s').normalize()"
   ]
  },
  {
   "cell_type": "code",
   "execution_count": 11,
   "id": "1b79392f",
   "metadata": {},
   "outputs": [
    {
     "data": {
      "text/plain": [
       "DatetimeIndex(['2011-03-22', '2011-08-23', '2012-12-26', '2010-08-05'], dtype='datetime64[ns]', freq=None)"
      ]
     },
     "execution_count": 11,
     "metadata": {},
     "output_type": "execute_result"
    }
   ],
   "source": [
    "# new syntax\n",
    "\n",
    "rng = np.random.default_rng()\n",
    "\n",
    "N = 4\n",
    "\n",
    "start_u = pd.to_datetime(start_date).value//int(1e9)\n",
    "end_u = pd.to_datetime(end_date).value//int(1e9)\n",
    "pd.to_datetime(rng.integers(start_u, end_u, N, endpoint=True), unit='s').normalize()"
   ]
  }
 ],
 "metadata": {
  "hide_input": false,
  "kernelspec": {
   "display_name": "Python 3 (ipykernel)",
   "language": "python",
   "name": "python3"
  },
  "language_info": {
   "codemirror_mode": {
    "name": "ipython",
    "version": 3
   },
   "file_extension": ".py",
   "mimetype": "text/x-python",
   "name": "python",
   "nbconvert_exporter": "python",
   "pygments_lexer": "ipython3",
   "version": "3.8.10"
  }
 },
 "nbformat": 4,
 "nbformat_minor": 5
}
