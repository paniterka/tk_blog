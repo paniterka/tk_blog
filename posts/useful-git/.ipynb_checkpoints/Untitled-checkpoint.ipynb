{
 "cells": [
  {
   "cell_type": "raw",
   "metadata": {},
   "source": [
    "---\n",
    "title: \"Useful git stuff\"\n",
    "date: \"2022-07-26\"\n",
    "categories: [cheatsheet]\n",
    "draft: false\n",
    "---"
   ]
  },
  {
   "cell_type": "markdown",
   "metadata": {},
   "source": [
    "Because every now and then there is this thing you need to do with git, but because you do it not so often, you have to google it for like 30 sec. "
   ]
  },
  {
   "cell_type": "markdown",
   "metadata": {},
   "source": [
    "## Useful git commands "
   ]
  },
  {
   "cell_type": "markdown",
   "metadata": {},
   "source": [
    "To create a new empty branch: \n",
    "\n",
    "```\n",
    "git switch --orphan <new branch>\n",
    "git commit --allow-empty -m \"Initial commit on orphan branch\"\n",
    "git push -u origin <new branch>\n",
    "```\n",
    "\n",
    "[source](https://stackoverflow.com/a/34100189)"
   ]
  },
  {
   "cell_type": "markdown",
   "metadata": {},
   "source": [
    "## Resources"
   ]
  },
  {
   "cell_type": "markdown",
   "metadata": {},
   "source": [
    "Branching: \n",
    "- https://www.nobledesktop.com/learn/git/git-branches "
   ]
  }
 ],
 "metadata": {
  "kernelspec": {
   "display_name": "Python 3",
   "language": "python",
   "name": "python3"
  },
  "language_info": {
   "codemirror_mode": {
    "name": "ipython",
    "version": 3
   },
   "file_extension": ".py",
   "mimetype": "text/x-python",
   "name": "python",
   "nbconvert_exporter": "python",
   "pygments_lexer": "ipython3",
   "version": "3.6.8"
  }
 },
 "nbformat": 4,
 "nbformat_minor": 4
}
