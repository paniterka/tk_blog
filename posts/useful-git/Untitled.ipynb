{
 "cells": [
  {
   "cell_type": "raw",
   "metadata": {},
   "source": [
    "---\n",
    "title: \"Useful git stuff\"\n",
    "date: \"2022-07-26\"\n",
    "categories: [cheatsheet]\n",
    "draft: false\n",
    "---"
   ]
  },
  {
   "cell_type": "markdown",
   "metadata": {},
   "source": [
    "Because every now and then there is this thing you need to do with git, but because you do it not so often, you have to google it for like 30 sec. "
   ]
  },
  {
   "cell_type": "markdown",
   "metadata": {},
   "source": [
    "## Useful git commands "
   ]
  },
  {
   "cell_type": "markdown",
   "metadata": {},
   "source": [
    "### Branches"
   ]
  },
  {
   "cell_type": "markdown",
   "metadata": {},
   "source": [
    "To create a new empty branch: \n",
    "\n",
    "```\n",
    "git switch --orphan <new branch>\n",
    "git commit --allow-empty -m \"Initial commit on orphan branch\"\n",
    "git push -u origin <new branch>\n",
    "```\n",
    "\n",
    "[source](https://stackoverflow.com/a/34100189)"
   ]
  },
  {
   "cell_type": "markdown",
   "metadata": {},
   "source": [
    "### Quarto complaining about `fatal gh-pages is already checked out at 3987a70`"
   ]
  },
  {
   "cell_type": "markdown",
   "metadata": {},
   "source": [
    "[src](https://stackoverflow.com/questions/41545293/branch-is-already-checked-out-at-other-location-in-git-worktrees)"
   ]
  },
  {
   "cell_type": "markdown",
   "metadata": {},
   "source": [
    "- git: remove `3987a70` directory, commit, push\n",
    "- `git worktree prune`\n",
    "- `quarto publish gh-pages`"
   ]
  },
  {
   "cell_type": "markdown",
   "metadata": {},
   "source": [
    "This happened for me as I had a github action set up AND ran `quarto publish gh-pages` simultaneously, which froze and left the `3987a70` folder hanging in the directory"
   ]
  },
  {
   "cell_type": "markdown",
   "metadata": {},
   "source": [
    "## Resources"
   ]
  },
  {
   "cell_type": "markdown",
   "metadata": {},
   "source": [
    "Branching: \n",
    "- https://www.nobledesktop.com/learn/git/git-branches "
   ]
  }
 ],
 "metadata": {
  "hide_input": false,
  "kernelspec": {
   "display_name": "Python 3 (ipykernel)",
   "language": "python",
   "name": "python3"
  },
  "language_info": {
   "codemirror_mode": {
    "name": "ipython",
    "version": 3
   },
   "file_extension": ".py",
   "mimetype": "text/x-python",
   "name": "python",
   "nbconvert_exporter": "python",
   "pygments_lexer": "ipython3",
   "version": "3.8.10"
  }
 },
 "nbformat": 4,
 "nbformat_minor": 4
}
