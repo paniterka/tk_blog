{
 "cells": [
  {
   "cell_type": "raw",
   "metadata": {},
   "source": [
    "---\n",
    "title: \"Skipping empty csv rows\"\n",
    "date: \"2022-08-04\"\n",
    "categories: [cheatsheet, pandas]\n",
    "draft: false\n",
    "freeze: true\n",
    "---"
   ]
  },
  {
   "cell_type": "markdown",
   "metadata": {},
   "source": [
    "Let's say you got a series of csv files which contain tabular data, but there is a certain amount of commentary above the table: \n",
    "\n",
    "```\n",
    "Comment line 1 \n",
    "Comment line 2 \n",
    "Comment line 3 \n",
    "\n",
    "col1, col2, col3 \n",
    "10, 12, 13\n",
    "21, 20, 22\n",
    "```"
   ]
  },
  {
   "cell_type": "markdown",
   "metadata": {},
   "source": [
    "Pandas accepts also file objects as an input, so you can travel through the lines until you find a separating line (or another condition) and then proceed with `pd.read_csv`: "
   ]
  },
  {
   "cell_type": "markdown",
   "metadata": {},
   "source": [
    "```\n",
    "import pandas as pd\n",
    "\n",
    "f = open(\"data.csv\")\n",
    "while f.readline() != '\\n':\n",
    "    pass\n",
    "\n",
    "df = pd.read_csv(f, header=None)\n",
    "f.close()\n",
    "```"
   ]
  },
  {
   "cell_type": "markdown",
   "metadata": {},
   "source": [
    "As suggested in [src](https://stackoverflow.com/a/59713314)"
   ]
  }
 ],
 "metadata": {
  "hide_input": false,
  "kernelspec": {
   "display_name": "Python 3 (ipykernel)",
   "language": "python",
   "name": "python3"
  },
  "language_info": {
   "codemirror_mode": {
    "name": "ipython",
    "version": 3
   },
   "file_extension": ".py",
   "mimetype": "text/x-python",
   "name": "python",
   "nbconvert_exporter": "python",
   "pygments_lexer": "ipython3",
   "version": "3.8.10"
  }
 },
 "nbformat": 4,
 "nbformat_minor": 4
}
