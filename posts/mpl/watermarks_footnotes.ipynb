{
  "cells": [
    {
      "cell_type": "raw",
      "metadata": {},
      "source": [
        "---\n",
        "title: 'Watermarks, footnotes and other annotations'\n",
        "date: '2022-08-08'\n",
        "format: html\n",
        "categories:\n",
        "  - matplotlib\n",
        "---"
      ],
      "id": "5136726a"
    },
    {
      "cell_type": "code",
      "metadata": {},
      "source": [
        "import matplotlib.pyplot as plt "
      ],
      "id": "a8173492",
      "execution_count": null,
      "outputs": []
    },
    {
      "cell_type": "markdown",
      "metadata": {},
      "source": [
        "## Add a watermark \n",
        "\n",
        "Sometimes you want a big fat text on your chart that says that these are preliminary results. \n"
      ],
      "id": "59e17627"
    },
    {
      "cell_type": "code",
      "metadata": {},
      "source": [
        "f, ax = plt.subplots()\n",
        "\n",
        "import matplotlib.patheffects as path_effects\n",
        "\n",
        "watermark_text = 'draft'\n",
        "t = ax.text(0.5, 0.5, watermark_text, transform=ax.transAxes,\n",
        "        fontsize=80, color='white', alpha=0.3,  weight=\"bold\", \n",
        "        ha='center', va='center', rotation='30')\n",
        "t.set_path_effects([path_effects.Stroke(linewidth=3, foreground='lightgray')])"
      ],
      "id": "d42985fb",
      "execution_count": null,
      "outputs": []
    },
    {
      "cell_type": "markdown",
      "metadata": {},
      "source": [
        "Change `color='white'` to make it colorful. The edge color is encoded in `set_path_effects` as `foreground`. \n",
        "\n",
        "\n",
        "## Add a footnote \n",
        "\n",
        "### Bottom right \n"
      ],
      "id": "c7a4ec5d"
    },
    {
      "cell_type": "code",
      "metadata": {},
      "source": [
        "f, ax = plt.subplots()\n",
        "\n",
        "footnote = [\n",
        "    'Data source: XY',\n",
        "    'Author: TK'\n",
        "]\n",
        "\n",
        "ax.annotate('\\n'.join(footnote), \n",
        "            xy = (1.05,0), xycoords=ax, ha='left', va='bottom',\n",
        "            fontsize=8, style='italic', \n",
        "            bbox=dict(boxstyle='square,pad=0.0',fc='none', ec='none')\n",
        "        )"
      ],
      "id": "6e50fe17",
      "execution_count": null,
      "outputs": []
    },
    {
      "cell_type": "markdown",
      "metadata": {},
      "source": [
        "The footnote is positioned relative to the axes (`xycoords`+`ha`+`va`). The pad is removed. Aligning to `bottom` makes it robust for multiline entries. \n",
        "\n",
        "\n",
        "### Bottom left under the chart \n"
      ],
      "id": "70b12d37"
    },
    {
      "cell_type": "code",
      "metadata": {},
      "source": [
        "f, ax = plt.subplots()\n",
        "\n",
        "footnote = [\n",
        "    'Data source: XY',\n",
        "    'Author: TK'\n",
        "]\n",
        "\n",
        "ax.annotate('|'.join(footnote), \n",
        "            xy = (0,0), xycoords=ax, ha='left', va='top',\n",
        "            fontsize=8, style='italic', \n",
        "            bbox=dict(boxstyle='square,pad=0.0',fc='none', ec='none')\n",
        "        )"
      ],
      "id": "f4f330c0",
      "execution_count": null,
      "outputs": []
    }
  ],
  "metadata": {
    "kernelspec": {
      "name": "python3",
      "language": "python",
      "display_name": "Python 3"
    }
  },
  "nbformat": 4,
  "nbformat_minor": 5
}